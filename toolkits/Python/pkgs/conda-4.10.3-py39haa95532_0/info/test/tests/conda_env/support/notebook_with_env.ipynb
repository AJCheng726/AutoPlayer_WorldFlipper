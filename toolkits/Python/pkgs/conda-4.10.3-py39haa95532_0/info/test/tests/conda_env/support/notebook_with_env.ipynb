{
 "cells": [],
 "metadata": {
  "environment": {
   "dependencies": [
    "ipython-notebook=3.2.0=py27_0"
   ],
   "name": "stats"
  }
 },
 "nbformat": 4,
 "nbformat_minor": 0
}
